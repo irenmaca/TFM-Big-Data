{
 "cells": [
  {
   "cell_type": "code",
   "execution_count": 1,
   "metadata": {},
   "outputs": [],
   "source": [
    "from numpy.random import seed\n",
    "seed(10)\n",
    "from tensorflow import set_random_seed\n",
    "set_random_seed(10)"
   ]
  },
  {
   "cell_type": "code",
   "execution_count": 2,
   "metadata": {},
   "outputs": [
    {
     "name": "stderr",
     "output_type": "stream",
     "text": [
      "Using TensorFlow backend.\n"
     ]
    }
   ],
   "source": [
    "# Librerias\n",
    "import pandas as pd\n",
    "import numpy as np\n",
    "from numpy import sqrt\n",
    "from numpy import argmax\n",
    "\n",
    "import matplotlib.pyplot as plt\n",
    "import seaborn as sn\n",
    "\n",
    "import sklearn\n",
    "from sklearn import metrics\n",
    "from sklearn.model_selection import KFold\n",
    "from sklearn.model_selection import train_test_split\n",
    "from sklearn.metrics import roc_curve\n",
    "from sklearn.metrics import auc\n",
    "from sklearn.metrics import f1_score\n",
    "from sklearn.metrics import matthews_corrcoef\n",
    "from sklearn.metrics import confusion_matrix\n",
    "from sklearn.metrics import accuracy_score\n",
    "from sklearn.metrics import recall_score\n",
    "from sklearn.metrics import average_precision_score\n",
    "\n",
    "from keras.utils import plot_model\n",
    "from keras.models import Model\n",
    "from keras.layers import Input\n",
    "from keras.layers import Dense\n",
    "from keras.layers import Flatten\n",
    "from keras.layers.convolutional import Conv1D\n",
    "from keras.layers.pooling import MaxPooling1D\n",
    "from keras.layers.merge import concatenate"
   ]
  },
  {
   "cell_type": "code",
   "execution_count": 3,
   "metadata": {},
   "outputs": [],
   "source": [
    "# Cargo los csv\n",
    "LocalView = pd.read_csv(\"C:/Users/Irene/Desktop/Data/LocalViewR.csv\")\n",
    "GlobalView = pd.read_csv(\"C:/Users/Irene/Desktop/Data/GlobalView.csv\")\n",
    "StellarParam6P = pd.read_csv(\"C:/Users/Irene/Desktop/Data/StellarParam6PLabeledR.csv\")"
   ]
  },
  {
   "cell_type": "code",
   "execution_count": 4,
   "metadata": {},
   "outputs": [],
   "source": [
    "# Divido entre entrenamiento y test\n",
    "xl_train, xl_test, yl_train, yl_test = train_test_split(LocalView.iloc[:,2:], LocalView.iloc[:,1], test_size=0.3, random_state=11)\n",
    "xg_train, xg_test, yg_train, yg_test = train_test_split(GlobalView.iloc[:,2:], GlobalView.iloc[:,1], test_size=0.3, random_state=11)\n",
    "xs_train, xs_test, ys_train, ys_test = train_test_split(StellarParam6P.iloc[:,2:], StellarParam6P.iloc[:,1], test_size=0.3, random_state=11)"
   ]
  },
  {
   "cell_type": "code",
   "execution_count": 5,
   "metadata": {},
   "outputs": [],
   "source": [
    "#Definimos las dimensiones\n",
    "n_outputs = 1\n",
    "nL_timesteps, nL_features  = xl_train.shape[0], xl_train.shape[1]\n",
    "nG_timesteps, nG_features  = xg_train.shape[0], xg_train.shape[1]\n",
    "nS_timesteps, nS_features  = xs_train.shape[0], xs_train.shape[1]"
   ]
  },
  {
   "cell_type": "code",
   "execution_count": 6,
   "metadata": {},
   "outputs": [],
   "source": [
    "#Expandimos las dimensiones de train \n",
    "xle_train = np.expand_dims(xl_train,axis=-1) \n",
    "yle_train = np.array(yl_train) \n",
    "xge_train = np.expand_dims(xg_train,axis=-1)\n",
    "yge_train = np.array(yg_train)\n",
    "xse_train = np.expand_dims(xs_train,axis=-1)\n",
    "yse_train = np.array(ys_train)"
   ]
  },
  {
   "cell_type": "code",
   "execution_count": 7,
   "metadata": {},
   "outputs": [],
   "source": [
    "#Expandimos las dimensiones de test\n",
    "xle_test = np.expand_dims(xl_test,axis=-1)\n",
    "yle_test = np.array(yl_test) \n",
    "xge_test = np.expand_dims(xg_test,axis=-1)\n",
    "yge_test = np.array(yg_test)\n",
    "xse_test = np.expand_dims(xs_test,axis=-1)\n",
    "yse_test = np.array(ys_test)"
   ]
  },
  {
   "cell_type": "code",
   "execution_count": 8,
   "metadata": {},
   "outputs": [
    {
     "name": "stdout",
     "output_type": "stream",
     "text": [
      "WARNING:tensorflow:From C:\\Users\\Irene\\Anaconda3\\lib\\site-packages\\keras\\backend\\tensorflow_backend.py:4070: The name tf.nn.max_pool is deprecated. Please use tf.nn.max_pool2d instead.\n",
      "\n",
      "Model: \"model_1\"\n",
      "__________________________________________________________________________________________________\n",
      "Layer (type)                    Output Shape         Param #     Connected to                     \n",
      "==================================================================================================\n",
      "input_2 (InputLayer)            (None, 1001, 1)      0                                            \n",
      "__________________________________________________________________________________________________\n",
      "conv1d_5 (Conv1D)               (None, 997, 16)      96          input_2[0][0]                    \n",
      "__________________________________________________________________________________________________\n",
      "conv1d_6 (Conv1D)               (None, 993, 16)      1296        conv1d_5[0][0]                   \n",
      "__________________________________________________________________________________________________\n",
      "max_pooling1d_3 (MaxPooling1D)  (None, 496, 16)      0           conv1d_6[0][0]                   \n",
      "__________________________________________________________________________________________________\n",
      "conv1d_7 (Conv1D)               (None, 492, 32)      2592        max_pooling1d_3[0][0]            \n",
      "__________________________________________________________________________________________________\n",
      "conv1d_8 (Conv1D)               (None, 488, 32)      5152        conv1d_7[0][0]                   \n",
      "__________________________________________________________________________________________________\n",
      "input_1 (InputLayer)            (None, 101, 1)       0                                            \n",
      "__________________________________________________________________________________________________\n",
      "max_pooling1d_4 (MaxPooling1D)  (None, 244, 32)      0           conv1d_8[0][0]                   \n",
      "__________________________________________________________________________________________________\n",
      "conv1d_1 (Conv1D)               (None, 97, 16)       96          input_1[0][0]                    \n",
      "__________________________________________________________________________________________________\n",
      "conv1d_9 (Conv1D)               (None, 240, 64)      10304       max_pooling1d_4[0][0]            \n",
      "__________________________________________________________________________________________________\n",
      "conv1d_2 (Conv1D)               (None, 93, 16)       1296        conv1d_1[0][0]                   \n",
      "__________________________________________________________________________________________________\n",
      "conv1d_10 (Conv1D)              (None, 236, 64)      20544       conv1d_9[0][0]                   \n",
      "__________________________________________________________________________________________________\n",
      "max_pooling1d_1 (MaxPooling1D)  (None, 44, 16)       0           conv1d_2[0][0]                   \n",
      "__________________________________________________________________________________________________\n",
      "max_pooling1d_5 (MaxPooling1D)  (None, 118, 64)      0           conv1d_10[0][0]                  \n",
      "__________________________________________________________________________________________________\n",
      "conv1d_3 (Conv1D)               (None, 40, 32)       2592        max_pooling1d_1[0][0]            \n",
      "__________________________________________________________________________________________________\n",
      "conv1d_11 (Conv1D)              (None, 116, 128)     24704       max_pooling1d_5[0][0]            \n",
      "__________________________________________________________________________________________________\n",
      "conv1d_4 (Conv1D)               (None, 36, 32)       5152        conv1d_3[0][0]                   \n",
      "__________________________________________________________________________________________________\n",
      "conv1d_12 (Conv1D)              (None, 114, 128)     49280       conv1d_11[0][0]                  \n",
      "__________________________________________________________________________________________________\n",
      "max_pooling1d_2 (MaxPooling1D)  (None, 15, 32)       0           conv1d_4[0][0]                   \n",
      "__________________________________________________________________________________________________\n",
      "max_pooling1d_6 (MaxPooling1D)  (None, 57, 128)      0           conv1d_12[0][0]                  \n",
      "__________________________________________________________________________________________________\n",
      "input_3 (InputLayer)            (None, 6, 1)         0                                            \n",
      "__________________________________________________________________________________________________\n",
      "flatten_1 (Flatten)             (None, 480)          0           max_pooling1d_2[0][0]            \n",
      "__________________________________________________________________________________________________\n",
      "flatten_2 (Flatten)             (None, 7296)         0           max_pooling1d_6[0][0]            \n",
      "__________________________________________________________________________________________________\n",
      "flatten_3 (Flatten)             (None, 6)            0           input_3[0][0]                    \n",
      "__________________________________________________________________________________________________\n",
      "concatenate_1 (Concatenate)     (None, 7782)         0           flatten_1[0][0]                  \n",
      "                                                                 flatten_2[0][0]                  \n",
      "                                                                 flatten_3[0][0]                  \n",
      "__________________________________________________________________________________________________\n",
      "dense_1 (Dense)                 (None, 256)          1992448     concatenate_1[0][0]              \n",
      "__________________________________________________________________________________________________\n",
      "dense_2 (Dense)                 (None, 256)          65792       dense_1[0][0]                    \n",
      "__________________________________________________________________________________________________\n",
      "dense_3 (Dense)                 (None, 256)          65792       dense_2[0][0]                    \n",
      "__________________________________________________________________________________________________\n",
      "dense_4 (Dense)                 (None, 256)          65792       dense_3[0][0]                    \n",
      "__________________________________________________________________________________________________\n",
      "dense_5 (Dense)                 (None, 1)            257         dense_4[0][0]                    \n",
      "==================================================================================================\n",
      "Total params: 2,313,185\n",
      "Trainable params: 2,313,185\n",
      "Non-trainable params: 0\n",
      "__________________________________________________________________________________________________\n",
      "None\n"
     ]
    }
   ],
   "source": [
    "# Multiple Inputs\n",
    "\n",
    "# first input model\n",
    "inputLocalView = Input(shape=(nL_features, 1))\n",
    "inputLocalView.set_shape([nL_timesteps, nL_features, 1])\n",
    "\n",
    "CL1 = Conv1D(filters=16, kernel_size=5, activation='relu')(inputLocalView)\n",
    "CL2 = Conv1D(filters=16, kernel_size=5, activation='relu')(CL1)\n",
    "\n",
    "ML1 = MaxPooling1D(pool_size=7, strides=2)(CL2)\n",
    "\n",
    "CL3 = Conv1D(filters=32, kernel_size=5, activation='relu')(ML1)\n",
    "CL4 = Conv1D(filters=32, kernel_size=5, activation='relu')(CL3)\n",
    "\n",
    "ML2 = MaxPooling1D(pool_size=7, strides=2)(CL4)\n",
    "flat1 = Flatten()(ML2)\n",
    "\n",
    "# second input model\n",
    "\n",
    "inputGlobalView = Input(shape=(nG_features, 1))\n",
    "inputGlobalView.set_shape([nG_timesteps, nG_features, 1])\n",
    "\n",
    "\n",
    "\n",
    "CG1 = Conv1D(filters=16, kernel_size=5, activation='relu')(inputGlobalView)\n",
    "CG2 = Conv1D(filters=16, kernel_size=5, activation='relu')(CG1)\n",
    "\n",
    "MG1 = MaxPooling1D(pool_size=3, strides=2)(CG2)\n",
    "\n",
    "CG3 = Conv1D(filters=32, kernel_size=5, activation='relu')(MG1)\n",
    "CG4 = Conv1D(filters=32, kernel_size=5, activation='relu')(CG3)\n",
    "\n",
    "MG2 = MaxPooling1D(pool_size=2, strides=2)(CG4)\n",
    "\n",
    "CG5 = Conv1D(filters=64, kernel_size=5, activation='relu')(MG2)\n",
    "CG6 = Conv1D(filters=64, kernel_size=5, activation='relu')(CG5)\n",
    "\n",
    "MG3 = MaxPooling1D(pool_size=2, strides=2)(CG6)\n",
    "\n",
    "CG7 = Conv1D(filters=128, kernel_size=3, activation='relu')(MG3)\n",
    "CG8 = Conv1D(filters=128, kernel_size=3, activation='relu')(CG7)\n",
    "\n",
    "MG4 = MaxPooling1D(pool_size=2, strides=2)(CG8)\n",
    "\n",
    "flat2 = Flatten()(MG4)\n",
    "# third input model\n",
    "\n",
    "StellarParam6PInput = Input(shape=(nS_features, 1))\n",
    "StellarParam6PInput.set_shape([nS_timesteps, nS_features, 1])\n",
    "\n",
    "#StellarParam6PInput=(nS_features,1)\n",
    "flat3 = Flatten()(StellarParam6PInput)\n",
    "# merge input models\n",
    "merge = concatenate([flat1, flat2, flat3])\n",
    "# interpretation model\n",
    "hidden1 = Dense(256, activation='relu')(merge)\n",
    "hidden2 = Dense(256, activation='relu')(hidden1)\n",
    "hidden3 = Dense(256, activation='relu')(hidden2)\n",
    "hidden4 = Dense(256, activation='relu')(hidden3)\n",
    "output = Dense(n_outputs, activation='tanh')(hidden4)\n",
    "model = Model(inputs=[inputLocalView, inputGlobalView,StellarParam6PInput], outputs=output)\n",
    "model.compile(loss='binary_crossentropy', optimizer='adam', metrics=['accuracy'])\n",
    "print(model.summary())"
   ]
  },
  {
   "cell_type": "code",
   "execution_count": 10,
   "metadata": {},
   "outputs": [
    {
     "name": "stdout",
     "output_type": "stream",
     "text": [
      "WARNING:tensorflow:From C:\\Users\\Irene\\Anaconda3\\lib\\site-packages\\tensorflow\\python\\ops\\math_grad.py:1250: add_dispatch_support.<locals>.wrapper (from tensorflow.python.ops.array_ops) is deprecated and will be removed in a future version.\n",
      "Instructions for updating:\n",
      "Use tf.where in 2.0, which has the same broadcast rule as np.where\n",
      "WARNING:tensorflow:From C:\\Users\\Irene\\Anaconda3\\lib\\site-packages\\keras\\backend\\tensorflow_backend.py:422: The name tf.global_variables is deprecated. Please use tf.compat.v1.global_variables instead.\n",
      "\n",
      "Epoch 1/50\n",
      "104/104 [==============================] - 5s 45ms/step - loss: 0.8381 - accuracy: 0.8173\n",
      "Epoch 2/50\n",
      "104/104 [==============================] - 2s 19ms/step - loss: 0.4925 - accuracy: 0.8173\n",
      "Epoch 3/50\n",
      "104/104 [==============================] - 2s 18ms/step - loss: 0.5271 - accuracy: 0.8173\n",
      "Epoch 4/50\n",
      "104/104 [==============================] - 2s 19ms/step - loss: 0.4843 - accuracy: 0.8173\n",
      "Epoch 5/50\n",
      "104/104 [==============================] - 2s 20ms/step - loss: 0.4869 - accuracy: 0.8173\n",
      "Epoch 6/50\n",
      "104/104 [==============================] - 2s 21ms/step - loss: 0.4749 - accuracy: 0.8173\n",
      "Epoch 7/50\n",
      "104/104 [==============================] - 2s 21ms/step - loss: 0.4738 - accuracy: 0.8173\n",
      "Epoch 8/50\n",
      "104/104 [==============================] - 2s 19ms/step - loss: 0.4731 - accuracy: 0.8173\n",
      "Epoch 9/50\n",
      "104/104 [==============================] - 2s 17ms/step - loss: 0.4651 - accuracy: 0.8173\n",
      "Epoch 10/50\n",
      "104/104 [==============================] - 2s 18ms/step - loss: 0.4636 - accuracy: 0.8173\n",
      "Epoch 11/50\n",
      "104/104 [==============================] - 2s 18ms/step - loss: 0.4590 - accuracy: 0.8173\n",
      "Epoch 12/50\n",
      "104/104 [==============================] - 2s 18ms/step - loss: 0.4504 - accuracy: 0.8173\n",
      "Epoch 13/50\n",
      "104/104 [==============================] - 2s 19ms/step - loss: 0.4421 - accuracy: 0.8173\n",
      "Epoch 14/50\n",
      "104/104 [==============================] - 2s 22ms/step - loss: 0.4285 - accuracy: 0.8173\n",
      "Epoch 15/50\n",
      "104/104 [==============================] - 2s 20ms/step - loss: 0.4140 - accuracy: 0.8173\n",
      "Epoch 16/50\n",
      "104/104 [==============================] - 2s 22ms/step - loss: 0.4002 - accuracy: 0.8173\n",
      "Epoch 17/50\n",
      "104/104 [==============================] - 2s 18ms/step - loss: 0.3879 - accuracy: 0.8173\n",
      "Epoch 18/50\n",
      "104/104 [==============================] - 2s 18ms/step - loss: 0.3766 - accuracy: 0.8173\n",
      "Epoch 19/50\n",
      "104/104 [==============================] - 2s 19ms/step - loss: 0.3579 - accuracy: 0.8173\n",
      "Epoch 20/50\n",
      "104/104 [==============================] - 2s 19ms/step - loss: 0.3353 - accuracy: 0.8173\n",
      "Epoch 21/50\n",
      "104/104 [==============================] - 2s 20ms/step - loss: 0.3201 - accuracy: 0.8269\n",
      "Epoch 22/50\n",
      "104/104 [==============================] - 2s 22ms/step - loss: 0.5143 - accuracy: 0.8173\n",
      "Epoch 23/50\n",
      "104/104 [==============================] - 2s 20ms/step - loss: 0.5325 - accuracy: 0.6442\n",
      "Epoch 24/50\n",
      "104/104 [==============================] - 2s 18ms/step - loss: 0.5864 - accuracy: 0.5385\n",
      "Epoch 25/50\n",
      "104/104 [==============================] - 2s 18ms/step - loss: 0.6302 - accuracy: 0.6538\n",
      "Epoch 26/50\n",
      "104/104 [==============================] - 2s 18ms/step - loss: 0.5451 - accuracy: 0.8846\n",
      "Epoch 27/50\n",
      "104/104 [==============================] - 2s 18ms/step - loss: 0.3556 - accuracy: 0.8269\n",
      "Epoch 28/50\n",
      "104/104 [==============================] - 2s 18ms/step - loss: 0.3231 - accuracy: 0.8173\n",
      "Epoch 29/50\n",
      "104/104 [==============================] - 2s 20ms/step - loss: 0.3259 - accuracy: 0.8173\n",
      "Epoch 30/50\n",
      "104/104 [==============================] - 2s 22ms/step - loss: 0.3506 - accuracy: 0.8173\n",
      "Epoch 31/50\n",
      "104/104 [==============================] - 2s 21ms/step - loss: 0.3536 - accuracy: 0.8173\n",
      "Epoch 32/50\n",
      "104/104 [==============================] - 2s 18ms/step - loss: 0.3379 - accuracy: 0.8173\n",
      "Epoch 33/50\n",
      "104/104 [==============================] - 2s 18ms/step - loss: 0.3331 - accuracy: 0.8173\n",
      "Epoch 34/50\n",
      "104/104 [==============================] - 2s 18ms/step - loss: 0.3190 - accuracy: 0.8173\n",
      "Epoch 35/50\n",
      "104/104 [==============================] - 2s 19ms/step - loss: 0.2910 - accuracy: 0.8173\n",
      "Epoch 36/50\n",
      "104/104 [==============================] - 2s 18ms/step - loss: 0.2758 - accuracy: 0.8173\n",
      "Epoch 37/50\n",
      "104/104 [==============================] - 2s 20ms/step - loss: 0.2662 - accuracy: 0.8173\n",
      "Epoch 38/50\n",
      "104/104 [==============================] - 2s 22ms/step - loss: 0.2412 - accuracy: 0.8269\n",
      "Epoch 39/50\n",
      "104/104 [==============================] - 2s 20ms/step - loss: 0.2373 - accuracy: 0.8750\n",
      "Epoch 40/50\n",
      "104/104 [==============================] - 2s 18ms/step - loss: 0.2253 - accuracy: 0.9135\n",
      "Epoch 41/50\n",
      "104/104 [==============================] - 2s 18ms/step - loss: 0.2097 - accuracy: 0.8846\n",
      "Epoch 42/50\n",
      "104/104 [==============================] - 2s 21ms/step - loss: 0.1988 - accuracy: 0.9135\n",
      "Epoch 43/50\n",
      "104/104 [==============================] - 2s 21ms/step - loss: 0.1828 - accuracy: 0.9327\n",
      "Epoch 44/50\n",
      "104/104 [==============================] - 2s 21ms/step - loss: 0.1744 - accuracy: 0.9423\n",
      "Epoch 45/50\n",
      "104/104 [==============================] - 2s 22ms/step - loss: 0.1603 - accuracy: 0.9231\n",
      "Epoch 46/50\n",
      "104/104 [==============================] - 2s 21ms/step - loss: 0.1526 - accuracy: 0.9135\n",
      "Epoch 47/50\n",
      "104/104 [==============================] - 2s 20ms/step - loss: 0.1469 - accuracy: 0.9327\n",
      "Epoch 48/50\n",
      "104/104 [==============================] - 2s 18ms/step - loss: 0.1321 - accuracy: 0.8846\n",
      "Epoch 49/50\n",
      "104/104 [==============================] - 2s 18ms/step - loss: 0.1340 - accuracy: 0.7981\n",
      "Epoch 50/50\n",
      "104/104 [==============================] - 2s 18ms/step - loss: 0.1183 - accuracy: 0.7981\n"
     ]
    }
   ],
   "source": [
    "# fit \n",
    "Ajuste = model.fit([xle_train, xge_train, xse_train], yle_train,\n",
    "      epochs=50, batch_size=119)"
   ]
  },
  {
   "cell_type": "code",
   "execution_count": 11,
   "metadata": {},
   "outputs": [
    {
     "name": "stdout",
     "output_type": "stream",
     "text": [
      "Best Threshold=0.252301, G-Mean=0.882\n"
     ]
    }
   ],
   "source": [
    "# Defino las métricas\n",
    "y_pred_keras = model.predict([xle_test,xge_test, xse_test]).ravel()\n",
    "fpr_keras, tpr_keras, thresholds_keras = roc_curve(yle_test, y_pred_keras)\n",
    "auc_keras = auc(fpr_keras, tpr_keras)\n",
    "gmeans = np.sqrt(tpr_keras * (1-fpr_keras))\n",
    "\n",
    "# localiza el índice del mayor g-mean\n",
    "ix = argmax(gmeans)\n",
    "print('Best Threshold=%f, G-Mean=%.3f' % (thresholds_keras[ix], gmeans[ix]))"
   ]
  },
  {
   "cell_type": "code",
   "execution_count": 12,
   "metadata": {},
   "outputs": [
    {
     "name": "stdout",
     "output_type": "stream",
     "text": [
      "[[29  2]\n",
      " [ 4 10]]\n"
     ]
    },
    {
     "data": {
      "text/plain": [
       "(0.9331797235023043, 0.6802313611192802, None)"
      ]
     },
     "execution_count": 12,
     "metadata": {},
     "output_type": "execute_result"
    }
   ],
   "source": [
    "#Umbral estándar\n",
    "labels_Standart = (y_pred_keras >= 0.5).astype(np.int)\n",
    "PhiM_Standart = matthews_corrcoef(yle_test, labels_Standart)\n",
    "Matrix_Standart = confusion_matrix(yle_test, labels_Standart)\n",
    "\n",
    "#Imprimo por pantalla las métricas\n",
    "auc_keras, PhiM_Standart, print(Matrix_Standart)"
   ]
  },
  {
   "cell_type": "code",
   "execution_count": 13,
   "metadata": {},
   "outputs": [
    {
     "name": "stdout",
     "output_type": "stream",
     "text": [
      "AUC: 0.9331797235023043\n",
      "F_Measure: 0.8125000000000001\n",
      "PhiCoeff: 0.725072166544399\n",
      "Average_precision: 0.692857142857143\n",
      "Accuracy: 0.8666666666666667\n",
      "Recall: [0.83870968 0.92857143]\n",
      "Matriz de confusión:\n",
      "[[26  5]\n",
      " [ 1 13]]\n"
     ]
    }
   ],
   "source": [
    "#Umbral OPT\n",
    "labels_OPT =(y_pred_keras >= thresholds_keras[ix]).astype(np.int)\n",
    "PhiCoeff_OPT = matthews_corrcoef(yle_test, labels_OPT)\n",
    "Matrix_OPT = confusion_matrix(yle_test, labels_OPT)\n",
    "F_Measure_OPT = f1_score(yle_test, labels_OPT, average='binary')\n",
    "Accuracy_OPT= accuracy_score(yle_test, labels_OPT, normalize=True)\n",
    "Recall_OPT= recall_score(yle_test, labels_OPT, average=None)\n",
    "Average_precision_OPT= average_precision_score(yle_test, labels_OPT)\n",
    "\n",
    "\n",
    "#Imprimo por pantalla las métricas\n",
    "print(\"AUC:\", auc_keras)\n",
    "print(\"F_Measure:\", F_Measure_OPT)\n",
    "print(\"PhiCoeff:\", PhiCoeff_OPT)\n",
    "print(\"Average_precision:\", Average_precision_OPT)\n",
    "print(\"Accuracy:\", Accuracy_OPT)\n",
    "print(\"Recall:\", Recall_OPT)\n",
    "print(\"Matriz de confusión:\")\n",
    "print( Matrix_OPT)"
   ]
  },
  {
   "cell_type": "code",
   "execution_count": 15,
   "metadata": {},
   "outputs": [
    {
     "data": {
      "image/png": "[encoded data removed]",
      "text/plain": [
       "<Figure size 432x288 with 1 Axes>"
      ]
     },
     "metadata": {
      "needs_background": "light"
     },
     "output_type": "display_data"
    }
   ],
   "source": [
    "#Ploteo la matrix de confusión\n",
    "import seaborn as sn\n",
    "df_cm = pd.DataFrame(Matrix_OPT, index = [i for i in \"01\"],\n",
    "                  columns = [i for i in \"01\"])\n",
    "\n",
    "plt.figure(0.5)\n",
    "heat_map = sn.heatmap(df_cm, xticklabels=True, yticklabels=True, annot=True, annot_kws = {\"ha\": 'center',\"va\": 'bottom'},cbar=False)\n",
    "#heat_map.set_yticklabels(heat_map.get_yticklabels(), rotation=0)\n",
    "plt.xlabel('Predicted')\n",
    "plt.ylabel('Actual')\n",
    "\n",
    "for text in heat_map.texts:\n",
    "    text.set_size(14)\n",
    "    text.set_weight('bold')\n",
    "    if text.get_text() == '5':\n",
    "        text.set_color('black')\n"
   ]
  },
  {
   "cell_type": "code",
   "execution_count": 17,
   "metadata": {},
   "outputs": [
    {
     "data": {
      "text/plain": [
       "<matplotlib.legend.Legend at 0x2552bdc3fc8>"
      ]
     },
     "execution_count": 17,
     "metadata": {},
     "output_type": "execute_result"
    },
    {
     "data": {
      "image/png": "[encoded data removed]",
      "text/plain": [
       "<Figure size 432x288 with 1 Axes>"
      ]
     },
     "metadata": {
      "needs_background": "light"
     },
     "output_type": "display_data"
    }
   ],
   "source": [
    "import matplotlib.pyplot as plt\n",
    "plt.figure(1)\n",
    "plt.plot([0, 1], [0, 1], 'k--')\n",
    "plt.plot(fpr_keras, tpr_keras, label='CNN (area = {:.3f})'.format(auc_keras))\n",
    "plt.scatter(fpr_keras[ix], tpr_keras[ix], marker='o', color='black', label='Best')\n",
    "plt.xlabel('False positive rate')\n",
    "plt.ylabel('True positive rate')\n",
    "plt.title('ROC curve')\n",
    "plt.legend(loc='best')"
   ]
  },
  {
   "cell_type": "markdown",
   "metadata": {},
   "source": [
    "# CROSS-VALIDATION"
   ]
  },
  {
   "cell_type": "code",
   "execution_count": 18,
   "metadata": {},
   "outputs": [
    {
     "name": "stdout",
     "output_type": "stream",
     "text": [
      "0\n",
      "1\n",
      "2\n",
      "3\n",
      "4\n",
      "5\n",
      "6\n",
      "7\n",
      "8\n",
      "9\n"
     ]
    }
   ],
   "source": [
    "y_pred_keras_tot = np.array([])\n",
    "y_pred_rf_tot = np.array([])\n",
    "y_test_total = np.array([])\n",
    "\n",
    "xl_train, xl_test, yl_train, yl_test = train_test_split(LocalView.iloc[:,2:], LocalView.iloc[:,1], test_size=0.3, random_state=11)\n",
    "xg_train, xg_test, yg_train, yg_test = train_test_split(GlobalView.iloc[:,2:], GlobalView.iloc[:,1], test_size=0.3, random_state=11)\n",
    "xs_train, xs_test, ys_train, ys_test = train_test_split(StellarParam6P.iloc[:,2:], StellarParam6P.iloc[:,1], test_size=0.3, random_state=11)\n",
    "    \n",
    "   \n",
    "    #Definimos las dimensiones\n",
    "n_outputs = 1\n",
    "nL_timesteps, nL_features  = xl_train.shape[0], xl_train.shape[1]\n",
    "nG_timesteps, nG_features  = xg_train.shape[0], xg_train.shape[1]\n",
    "nS_timesteps, nS_features  = xs_train.shape[0], xs_train.shape[1]\n",
    "      \n",
    "    #Expandimos las dimensiones\n",
    "xle_train = np.expand_dims(xl_train,axis=-1) # axis=-3 para que se adapte a la forma del tensor\n",
    "yle_train = np.array(yl_train) # Hay que trasponer \n",
    "xge_train = np.expand_dims(xg_train,axis=-1)\n",
    "yge_train = np.array(yg_train)\n",
    "xse_train = np.expand_dims(xs_train,axis=-1)\n",
    "yse_train = np.array(ys_train)\n",
    "    \n",
    "    \n",
    "    # Multiple Inputs\n",
    "\n",
    "    # first input model\n",
    "inputLocalView = Input(shape=(nL_features, 1))\n",
    "inputLocalView.set_shape([nL_timesteps, nL_features, 1])\n",
    "\n",
    "CL1 = Conv1D(filters=16, kernel_size=5, activation='relu')(inputLocalView)\n",
    "CL2 = Conv1D(filters=16, kernel_size=5, activation='relu')(CL1)\n",
    "\n",
    "ML1 = MaxPooling1D(pool_size=7, strides=2)(CL2)\n",
    "\n",
    "CL3 = Conv1D(filters=32, kernel_size=5, activation='relu')(ML1)\n",
    "CL4 = Conv1D(filters=32, kernel_size=5, activation='relu')(CL3)\n",
    "\n",
    "ML2 = MaxPooling1D(pool_size=7, strides=2)(CL4)\n",
    "flat1 = Flatten()(ML2)\n",
    "\n",
    "    # second input model\n",
    "\n",
    "inputGlobalView = Input(shape=(nG_features, 1))\n",
    "inputGlobalView.set_shape([nG_timesteps, nG_features, 1])\n",
    "\n",
    "CG1 = Conv1D(filters=16, kernel_size=5, activation='relu')(inputGlobalView)\n",
    "CG2 = Conv1D(filters=16, kernel_size=5, activation='relu')(CG1)\n",
    "\n",
    "MG1 = MaxPooling1D(pool_size=3, strides=2)(CG2)\n",
    "\n",
    "CG3 = Conv1D(filters=32, kernel_size=5, activation='relu')(MG1)\n",
    "CG4 = Conv1D(filters=32, kernel_size=5, activation='relu')(CG3)\n",
    "\n",
    "MG2 = MaxPooling1D(pool_size=2, strides=2)(CG4)\n",
    "\n",
    "CG5 = Conv1D(filters=64, kernel_size=5, activation='relu')(MG2)\n",
    "CG6 = Conv1D(filters=64, kernel_size=5, activation='relu')(CG5)\n",
    "\n",
    "MG3 = MaxPooling1D(pool_size=2, strides=2)(CG6)\n",
    "\n",
    "CG7 = Conv1D(filters=128, kernel_size=3, activation='relu')(MG3)\n",
    "CG8 = Conv1D(filters=128, kernel_size=3, activation='relu')(CG7)\n",
    "\n",
    "MG4 = MaxPooling1D(pool_size=2, strides=2)(CG8)\n",
    "\n",
    "flat2 = Flatten()(MG4)\n",
    "\n",
    "    # third input model\n",
    "\n",
    "StellarParam6PInput = Input(shape=(nS_features, 1))\n",
    "StellarParam6PInput.set_shape([nS_timesteps, nS_features, 1])\n",
    "\n",
    "    #StellarParam6PInput=(nS_features,1)\n",
    "flat3 = Flatten()(StellarParam6PInput)\n",
    "    # merge input models\n",
    "merge = concatenate([flat1, flat2, flat3])\n",
    "\n",
    "    # interpretation model\n",
    "hidden1 = Dense(256, activation='relu')(merge)\n",
    "hidden2 = Dense(256, activation='relu')(hidden1)\n",
    "hidden3 = Dense(256, activation='relu')(hidden2)\n",
    "hidden4 = Dense(256, activation='relu')(hidden3)\n",
    " #2output = Dense(n_outputs, activation='tanh')(hidden4)\n",
    "output = Dense(n_outputs, activation='tanh')(hidden4)\n",
    "model = Model(inputs=[inputLocalView, inputGlobalView,StellarParam6PInput], outputs=output)\n",
    "    #loss='binary_crossentropy', optimizer='adam', metrics=['accuracy', 'ce']\n",
    "model.compile(loss='binary_crossentropy', optimizer='adadelta', metrics=['accuracy'])\n",
    "    #loss_weights=['main_output': 1., 'aux_output': 0.2]) por si queremos darles pesos diferentes\n",
    "\n",
    "batch_size=119\n",
    "\n",
    "#Aumento número de muestras\n",
    "for i in range(10):\n",
    "    \n",
    "    print(i)\n",
    "    \n",
    "    # Divido entre entrenamiento y test\n",
    "    xl_train, xl_test, yl_train, yl_test = train_test_split(LocalView.iloc[:,2:], LocalView.iloc[:,1], test_size=0.3, random_state=11+i)\n",
    "    xg_train, xg_test, yg_train, yg_test = train_test_split(GlobalView.iloc[:,2:], GlobalView.iloc[:,1], test_size=0.3, random_state=11+i)\n",
    "    xs_train, xs_test, ys_train, ys_test = train_test_split(StellarParam6P.iloc[:,2:], StellarParam6P.iloc[:,1], test_size=0.3, random_state=11+i)\n",
    "    \n",
    "  \n",
    "    # fit forma 2\n",
    "    FIT = model.fit([xle_train, xge_train, xse_train], yle_train,\n",
    "          epochs=50, batch_size=batch_size, verbose=0)\n",
    "    \n",
    "    xle_test = np.expand_dims(xl_test,axis=-1)\n",
    "    yle_test = np.array(yl_test) \n",
    "    xge_test = np.expand_dims(xg_test,axis=-1)\n",
    "    yge_test = np.array(yg_test)\n",
    "    xse_test = np.expand_dims(xs_test,axis=-1)\n",
    "    yse_test = np.array(ys_test)\n",
    "    \n",
    "    \n",
    "    # Creo la RoC\n",
    "    y_pred_kerasC = model.predict([xle_test,xge_test,xse_test]).ravel()\n",
    "    \n",
    "    \n",
    "    #Lleno los vectores totales\n",
    "    y_pred_keras_tot = np.concatenate((y_pred_keras_tot,y_pred_kerasC))\n",
    "    \n",
    "    y_test_total = np.concatenate((y_test_total,yle_test))"
   ]
  },
  {
   "cell_type": "code",
   "execution_count": 19,
   "metadata": {},
   "outputs": [
    {
     "name": "stdout",
     "output_type": "stream",
     "text": [
      "Best Threshold=0.033286, G-Mean=0.897\n"
     ]
    }
   ],
   "source": [
    "# Defino las métricas\n",
    "\n",
    "fpr_kerasTotal, tpr_kerasTotal, thresholds_kerasTotal = roc_curve(y_test_total, y_pred_keras_tot)\n",
    "auc_kerasTotal = auc(fpr_kerasTotal, tpr_kerasTotal)\n",
    "gmeans = np.sqrt(tpr_kerasTotal * (1-fpr_kerasTotal))\n",
    "# localiza el índice del mayor g-mean\n",
    "ix = argmax(gmeans)\n",
    "print('Best Threshold=%f, G-Mean=%.3f' % (thresholds_kerasTotal[ix], gmeans[ix]))"
   ]
  },
  {
   "cell_type": "code",
   "execution_count": 20,
   "metadata": {},
   "outputs": [
    {
     "name": "stdout",
     "output_type": "stream",
     "text": [
      "[[337  16]\n",
      " [ 28  69]]\n"
     ]
    },
    {
     "data": {
      "text/plain": [
       "(0.9293536987821617, 0.6802313611192802, 0.7582417582417583, None)"
      ]
     },
     "execution_count": 20,
     "metadata": {},
     "output_type": "execute_result"
    }
   ],
   "source": [
    "#Umbral estándar\n",
    "labels_Standart = (y_pred_keras_tot >= 0.5).astype(np.int)\n",
    "PhiCoeff_Standart = matthews_corrcoef(y_test_total, labels_Standart)\n",
    "Matrix_Standart = confusion_matrix(y_test_total, labels_Standart)\n",
    "F_Measure_Standart = f1_score(y_test_total, labels_Standart, average='binary')\n",
    "\n",
    "#Imprimo por pantalla las métricas\n",
    "auc_kerasTotal, PhiM_Standart,F_Measure_Standart, print(Matrix_Standart)"
   ]
  },
  {
   "cell_type": "code",
   "execution_count": 21,
   "metadata": {
    "scrolled": true
   },
   "outputs": [
    {
     "name": "stdout",
     "output_type": "stream",
     "text": [
      "AUC: 0.9293536987821617\n",
      "F_Measure: 0.7962962962962962\n",
      "PhiCoeff: 0.7394709115163688\n",
      "Average_precision: 0.6651790888176576\n",
      "Accuracy: 0.9022222222222223\n",
      "Recall: [0.90651558 0.88659794]\n",
      "Matriz de confusión:\n",
      "[[320  33]\n",
      " [ 11  86]]\n"
     ]
    }
   ],
   "source": [
    "#Umbral OPT\n",
    "labels_OPT =(y_pred_keras_tot >= thresholds_kerasTotal[ix]).astype(np.int)\n",
    "PhiCoeff_OPT = matthews_corrcoef(y_test_total, labels_OPT)\n",
    "Matrix_OPT = confusion_matrix(y_test_total, labels_OPT)\n",
    "F_Measure_OPT = f1_score(y_test_total, labels_OPT, average='binary')\n",
    "Accuracy_OPT= accuracy_score(y_test_total, labels_OPT, normalize=True)\n",
    "Recall_OPT= recall_score(y_test_total, labels_OPT, average=None)\n",
    "Average_precision_OPT= average_precision_score(y_test_total, labels_OPT)\n",
    "\n",
    "\n",
    "#Imprimo por pantalla las métricas\n",
    "print(\"AUC:\", auc_kerasTotal)\n",
    "print(\"F_Measure:\", F_Measure_OPT)\n",
    "print(\"PhiCoeff:\", PhiCoeff_OPT)\n",
    "print(\"Average_precision:\", Average_precision_OPT)\n",
    "print(\"Accuracy:\", Accuracy_OPT)\n",
    "print(\"Recall:\", Recall_OPT)\n",
    "print(\"Matriz de confusión:\")\n",
    "print( Matrix_OPT)"
   ]
  },
  {
   "cell_type": "code",
   "execution_count": 24,
   "metadata": {},
   "outputs": [
    {
     "data": {
      "image/png": "[encoded data removed]",
      "text/plain": [
       "<Figure size 432x288 with 1 Axes>"
      ]
     },
     "metadata": {
      "needs_background": "light"
     },
     "output_type": "display_data"
    }
   ],
   "source": [
    "#Ploteo la matrix de confusión\n",
    "\n",
    "df_cm_OPT = pd.DataFrame(Matrix_OPT, index = [i for i in \"01\"],\n",
    "                  columns = [i for i in \"01\"])\n",
    "plt.figure(0.5)\n",
    "heat_map = sn.heatmap(df_cm_OPT, xticklabels=True, yticklabels=True, annot=True, fmt='g', annot_kws = {\"ha\": 'center',\"va\": 'bottom'},cbar=False)\n",
    "#heat_map.set_yticklabels(heat_map.get_yticklabels(), rotation=0)\n",
    "plt.xlabel('Predicted')\n",
    "plt.ylabel('Actual')\n",
    "\n",
    "for text in heat_map.texts:\n",
    "    text.set_size(14)\n",
    "    text.set_weight('bold')\n",
    "    if text.get_text() == '33':\n",
    "        text.set_color('black')"
   ]
  },
  {
   "cell_type": "code",
   "execution_count": 23,
   "metadata": {},
   "outputs": [
    {
     "data": {
      "image/png": "[encoded data removed]",
      "text/plain": [
       "<Figure size 432x288 with 1 Axes>"
      ]
     },
     "metadata": {
      "needs_background": "light"
     },
     "output_type": "display_data"
    }
   ],
   "source": [
    "import matplotlib.pyplot as plt\n",
    "plt.figure(1)\n",
    "plt.plot([0, 1], [0, 1], 'k--')\n",
    "plt.plot(fpr_kerasTotal, tpr_kerasTotal,  color='green', label='Tanh/Adadelta = {:.3f})'.format(auc_kerasTotal))\n",
    "plt.scatter(fpr_kerasTotal[ix], tpr_kerasTotal[ix], marker='o', color='black', label='Best')\n",
    "plt.xlabel('False positive rate')\n",
    "plt.ylabel('True positive rate')\n",
    "plt.title('ROC curve')\n",
    "plt.legend(loc='best')\n",
    "plt.show()"
   ]
  },
  {
   "cell_type": "code",
   "execution_count": null,
   "metadata": {},
   "outputs": [],
   "source": []
  }
 ],
 "metadata": {
  "kernelspec": {
   "display_name": "Python 3",
   "language": "python",
   "name": "python3"
  },
  "language_info": {
   "codemirror_mode": {
    "name": "ipython",
    "version": 3
   },
   "file_extension": ".py",
   "mimetype": "text/x-python",
   "name": "python",
   "nbconvert_exporter": "python",
   "pygments_lexer": "ipython3",
   "version": "3.6.10"
  }
 },
 "nbformat": 4,
 "nbformat_minor": 2
}
